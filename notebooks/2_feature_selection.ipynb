{
 "cells": [
  {
   "cell_type": "code",
   "execution_count": 1,
   "id": "initial_id",
   "metadata": {
    "collapsed": true,
    "ExecuteTime": {
     "end_time": "2024-07-05T18:43:57.100954Z",
     "start_time": "2024-07-05T18:43:56.349337Z"
    }
   },
   "outputs": [],
   "source": [
    "import pandas as pd \n",
    "import seaborn as sns\n",
    "import matplotlib.pyplot as plt\n",
    "from sklearn.preprocessing import (MinMaxScaler, \n",
    "                                   OneHotEncoder,\n",
    "                                   OrdinalEncoder)\n",
    "from sklearn.ensemble import RandomForestClassifier\n",
    "from sklearn.model_selection import train_test_split\n",
    "import numpy as np\n",
    "import time \n",
    "import sys \n",
    "sys.path.append(\"../lib\")\n",
    "from utils.get_snowpark_df import get_snowpark_df"
   ]
  },
  {
   "cell_type": "code",
   "outputs": [],
   "source": [
    "df = get_snowpark_df().to_pandas()"
   ],
   "metadata": {
    "collapsed": false,
    "ExecuteTime": {
     "end_time": "2024-07-05T18:43:59.422578Z",
     "start_time": "2024-07-05T18:43:57.103011Z"
    }
   },
   "id": "9a45a29272f8ee6e",
   "execution_count": 2
  },
  {
   "cell_type": "code",
   "outputs": [],
   "source": [
    "numerics = ['FIXED_ACIDITY',\n",
    "            'VOLATILE_ACIDITY',\n",
    "            'CITRIC_ACID',\n",
    "            'RESIDUAL_SUGAR',\n",
    "            'CHLORIDES',\n",
    "            'FREE_SULFUR_DIOXIDE',\n",
    "            'TOTAL_SULFUR_DIOXIDE',\n",
    "            'DENSITY',\n",
    "            'PH',\n",
    "            'SULPHATES',\n",
    "            'ALCOHOL']\n",
    "cats = [\"TYPE\"]\n",
    "target = \"QUALITY\""
   ],
   "metadata": {
    "collapsed": false,
    "ExecuteTime": {
     "end_time": "2024-07-05T18:43:59.427118Z",
     "start_time": "2024-07-05T18:43:59.424248Z"
    }
   },
   "id": "edecd075da9c63b",
   "execution_count": 3
  },
  {
   "cell_type": "code",
   "outputs": [],
   "source": [
    "scaler = MinMaxScaler()\n",
    "scaler.fit(df[numerics])\n",
    "df[numerics] = scaler.transform(df[numerics])"
   ],
   "metadata": {
    "collapsed": false,
    "ExecuteTime": {
     "end_time": "2024-07-05T18:43:59.439200Z",
     "start_time": "2024-07-05T18:43:59.428378Z"
    }
   },
   "id": "20c8b3c60e7e03b3",
   "execution_count": 4
  },
  {
   "cell_type": "code",
   "outputs": [
    {
     "data": {
      "text/plain": "   FIXED_ACIDITY  VOLATILE_ACIDITY  CITRIC_ACID  RESIDUAL_SUGAR  CHLORIDES  \\\n0       0.297521          0.413333     0.000000        0.019939   0.111296   \n1       0.330579          0.533333     0.000000        0.030675   0.147841   \n2       0.330579          0.453333     0.024096        0.026074   0.137874   \n3       0.611570          0.133333     0.337349        0.019939   0.109635   \n4       0.297521          0.413333     0.000000        0.019939   0.111296   \n\n   FREE_SULFUR_DIOXIDE  TOTAL_SULFUR_DIOXIDE   DENSITY        PH  SULPHATES  \\\n0             0.034722              0.064516  0.206092  0.612403   0.191011   \n1             0.083333              0.140553  0.186813  0.372093   0.258427   \n2             0.048611              0.110599  0.190669  0.418605   0.241573   \n3             0.055556              0.124424  0.209948  0.341085   0.202247   \n4             0.034722              0.064516  0.206092  0.612403   0.191011   \n\n    ALCOHOL  QUALITY TYPE  \n0  0.202899        5    r  \n1  0.260870        5    r  \n2  0.260870        5    r  \n3  0.260870        6    r  \n4  0.202899        5    r  ",
      "text/html": "<div>\n<style scoped>\n    .dataframe tbody tr th:only-of-type {\n        vertical-align: middle;\n    }\n\n    .dataframe tbody tr th {\n        vertical-align: top;\n    }\n\n    .dataframe thead th {\n        text-align: right;\n    }\n</style>\n<table border=\"1\" class=\"dataframe\">\n  <thead>\n    <tr style=\"text-align: right;\">\n      <th></th>\n      <th>FIXED_ACIDITY</th>\n      <th>VOLATILE_ACIDITY</th>\n      <th>CITRIC_ACID</th>\n      <th>RESIDUAL_SUGAR</th>\n      <th>CHLORIDES</th>\n      <th>FREE_SULFUR_DIOXIDE</th>\n      <th>TOTAL_SULFUR_DIOXIDE</th>\n      <th>DENSITY</th>\n      <th>PH</th>\n      <th>SULPHATES</th>\n      <th>ALCOHOL</th>\n      <th>QUALITY</th>\n      <th>TYPE</th>\n    </tr>\n  </thead>\n  <tbody>\n    <tr>\n      <th>0</th>\n      <td>0.297521</td>\n      <td>0.413333</td>\n      <td>0.000000</td>\n      <td>0.019939</td>\n      <td>0.111296</td>\n      <td>0.034722</td>\n      <td>0.064516</td>\n      <td>0.206092</td>\n      <td>0.612403</td>\n      <td>0.191011</td>\n      <td>0.202899</td>\n      <td>5</td>\n      <td>r</td>\n    </tr>\n    <tr>\n      <th>1</th>\n      <td>0.330579</td>\n      <td>0.533333</td>\n      <td>0.000000</td>\n      <td>0.030675</td>\n      <td>0.147841</td>\n      <td>0.083333</td>\n      <td>0.140553</td>\n      <td>0.186813</td>\n      <td>0.372093</td>\n      <td>0.258427</td>\n      <td>0.260870</td>\n      <td>5</td>\n      <td>r</td>\n    </tr>\n    <tr>\n      <th>2</th>\n      <td>0.330579</td>\n      <td>0.453333</td>\n      <td>0.024096</td>\n      <td>0.026074</td>\n      <td>0.137874</td>\n      <td>0.048611</td>\n      <td>0.110599</td>\n      <td>0.190669</td>\n      <td>0.418605</td>\n      <td>0.241573</td>\n      <td>0.260870</td>\n      <td>5</td>\n      <td>r</td>\n    </tr>\n    <tr>\n      <th>3</th>\n      <td>0.611570</td>\n      <td>0.133333</td>\n      <td>0.337349</td>\n      <td>0.019939</td>\n      <td>0.109635</td>\n      <td>0.055556</td>\n      <td>0.124424</td>\n      <td>0.209948</td>\n      <td>0.341085</td>\n      <td>0.202247</td>\n      <td>0.260870</td>\n      <td>6</td>\n      <td>r</td>\n    </tr>\n    <tr>\n      <th>4</th>\n      <td>0.297521</td>\n      <td>0.413333</td>\n      <td>0.000000</td>\n      <td>0.019939</td>\n      <td>0.111296</td>\n      <td>0.034722</td>\n      <td>0.064516</td>\n      <td>0.206092</td>\n      <td>0.612403</td>\n      <td>0.191011</td>\n      <td>0.202899</td>\n      <td>5</td>\n      <td>r</td>\n    </tr>\n  </tbody>\n</table>\n</div>"
     },
     "execution_count": 5,
     "metadata": {},
     "output_type": "execute_result"
    }
   ],
   "source": [
    "df.head()"
   ],
   "metadata": {
    "collapsed": false,
    "ExecuteTime": {
     "end_time": "2024-07-05T18:44:00.471549Z",
     "start_time": "2024-07-05T18:44:00.457466Z"
    }
   },
   "id": "e06fcfddfcc46d41",
   "execution_count": 5
  },
  {
   "cell_type": "code",
   "outputs": [],
   "source": [
    "ohe = OneHotEncoder(sparse_output=False)\n",
    "ohe.fit(df[cats])\n",
    "ohe_transformed = ohe.transform(df[cats])\n",
    "ohe_transformed_cols = ohe.get_feature_names_out()\n",
    "ohe_df = pd.DataFrame(ohe_transformed, \n",
    "                      columns=ohe_transformed_cols)"
   ],
   "metadata": {
    "collapsed": false,
    "ExecuteTime": {
     "end_time": "2024-07-05T18:44:02.814639Z",
     "start_time": "2024-07-05T18:44:02.807081Z"
    }
   },
   "id": "a20fa95211f3c6e7",
   "execution_count": 6
  },
  {
   "cell_type": "code",
   "outputs": [],
   "source": [
    "df.drop(cats, \n",
    "        inplace=True, \n",
    "        axis=1)"
   ],
   "metadata": {
    "collapsed": false,
    "ExecuteTime": {
     "end_time": "2024-07-05T18:44:06.970656Z",
     "start_time": "2024-07-05T18:44:06.966015Z"
    }
   },
   "id": "c0ca4a5ca61f3ca5",
   "execution_count": 7
  },
  {
   "cell_type": "code",
   "outputs": [
    {
     "data": {
      "text/plain": "      FIXED_ACIDITY  VOLATILE_ACIDITY  CITRIC_ACID  RESIDUAL_SUGAR  CHLORIDES  \\\n0          0.297521          0.413333     0.000000        0.019939   0.111296   \n1          0.330579          0.533333     0.000000        0.030675   0.147841   \n2          0.330579          0.453333     0.024096        0.026074   0.137874   \n3          0.611570          0.133333     0.337349        0.019939   0.109635   \n4          0.297521          0.413333     0.000000        0.019939   0.111296   \n...             ...               ...          ...             ...        ...   \n6492       0.198347          0.086667     0.174699        0.015337   0.049834   \n6493       0.231405          0.160000     0.216867        0.113497   0.063123   \n6494       0.223140          0.106667     0.114458        0.009202   0.053156   \n6495       0.140496          0.140000     0.180723        0.007669   0.021595   \n6496       0.181818          0.086667     0.228916        0.003067   0.018272   \n\n      FREE_SULFUR_DIOXIDE  TOTAL_SULFUR_DIOXIDE   DENSITY        PH  \\\n0                0.034722              0.064516  0.206092  0.612403   \n1                0.083333              0.140553  0.186813  0.372093   \n2                0.048611              0.110599  0.190669  0.418605   \n3                0.055556              0.124424  0.209948  0.341085   \n4                0.034722              0.064516  0.206092  0.612403   \n...                   ...                   ...       ...       ...   \n6492             0.079861              0.198157  0.077694  0.426357   \n6493             0.194444              0.373272  0.150183  0.333333   \n6494             0.100694              0.241935  0.104685  0.209302   \n6495             0.065972              0.239631  0.030461  0.480620   \n6496             0.072917              0.211982  0.044342  0.418605   \n\n      SULPHATES   ALCOHOL  QUALITY  \n0      0.191011  0.202899        5  \n1      0.258427  0.260870        5  \n2      0.241573  0.260870        5  \n3      0.202247  0.260870        6  \n4      0.191011  0.202899        5  \n...         ...       ...      ...  \n6492   0.157303  0.463768        6  \n6493   0.134831  0.231884        5  \n6494   0.134831  0.202899        6  \n6495   0.089888  0.695652        7  \n6496   0.056180  0.550725        6  \n\n[6497 rows x 12 columns]",
      "text/html": "<div>\n<style scoped>\n    .dataframe tbody tr th:only-of-type {\n        vertical-align: middle;\n    }\n\n    .dataframe tbody tr th {\n        vertical-align: top;\n    }\n\n    .dataframe thead th {\n        text-align: right;\n    }\n</style>\n<table border=\"1\" class=\"dataframe\">\n  <thead>\n    <tr style=\"text-align: right;\">\n      <th></th>\n      <th>FIXED_ACIDITY</th>\n      <th>VOLATILE_ACIDITY</th>\n      <th>CITRIC_ACID</th>\n      <th>RESIDUAL_SUGAR</th>\n      <th>CHLORIDES</th>\n      <th>FREE_SULFUR_DIOXIDE</th>\n      <th>TOTAL_SULFUR_DIOXIDE</th>\n      <th>DENSITY</th>\n      <th>PH</th>\n      <th>SULPHATES</th>\n      <th>ALCOHOL</th>\n      <th>QUALITY</th>\n    </tr>\n  </thead>\n  <tbody>\n    <tr>\n      <th>0</th>\n      <td>0.297521</td>\n      <td>0.413333</td>\n      <td>0.000000</td>\n      <td>0.019939</td>\n      <td>0.111296</td>\n      <td>0.034722</td>\n      <td>0.064516</td>\n      <td>0.206092</td>\n      <td>0.612403</td>\n      <td>0.191011</td>\n      <td>0.202899</td>\n      <td>5</td>\n    </tr>\n    <tr>\n      <th>1</th>\n      <td>0.330579</td>\n      <td>0.533333</td>\n      <td>0.000000</td>\n      <td>0.030675</td>\n      <td>0.147841</td>\n      <td>0.083333</td>\n      <td>0.140553</td>\n      <td>0.186813</td>\n      <td>0.372093</td>\n      <td>0.258427</td>\n      <td>0.260870</td>\n      <td>5</td>\n    </tr>\n    <tr>\n      <th>2</th>\n      <td>0.330579</td>\n      <td>0.453333</td>\n      <td>0.024096</td>\n      <td>0.026074</td>\n      <td>0.137874</td>\n      <td>0.048611</td>\n      <td>0.110599</td>\n      <td>0.190669</td>\n      <td>0.418605</td>\n      <td>0.241573</td>\n      <td>0.260870</td>\n      <td>5</td>\n    </tr>\n    <tr>\n      <th>3</th>\n      <td>0.611570</td>\n      <td>0.133333</td>\n      <td>0.337349</td>\n      <td>0.019939</td>\n      <td>0.109635</td>\n      <td>0.055556</td>\n      <td>0.124424</td>\n      <td>0.209948</td>\n      <td>0.341085</td>\n      <td>0.202247</td>\n      <td>0.260870</td>\n      <td>6</td>\n    </tr>\n    <tr>\n      <th>4</th>\n      <td>0.297521</td>\n      <td>0.413333</td>\n      <td>0.000000</td>\n      <td>0.019939</td>\n      <td>0.111296</td>\n      <td>0.034722</td>\n      <td>0.064516</td>\n      <td>0.206092</td>\n      <td>0.612403</td>\n      <td>0.191011</td>\n      <td>0.202899</td>\n      <td>5</td>\n    </tr>\n    <tr>\n      <th>...</th>\n      <td>...</td>\n      <td>...</td>\n      <td>...</td>\n      <td>...</td>\n      <td>...</td>\n      <td>...</td>\n      <td>...</td>\n      <td>...</td>\n      <td>...</td>\n      <td>...</td>\n      <td>...</td>\n      <td>...</td>\n    </tr>\n    <tr>\n      <th>6492</th>\n      <td>0.198347</td>\n      <td>0.086667</td>\n      <td>0.174699</td>\n      <td>0.015337</td>\n      <td>0.049834</td>\n      <td>0.079861</td>\n      <td>0.198157</td>\n      <td>0.077694</td>\n      <td>0.426357</td>\n      <td>0.157303</td>\n      <td>0.463768</td>\n      <td>6</td>\n    </tr>\n    <tr>\n      <th>6493</th>\n      <td>0.231405</td>\n      <td>0.160000</td>\n      <td>0.216867</td>\n      <td>0.113497</td>\n      <td>0.063123</td>\n      <td>0.194444</td>\n      <td>0.373272</td>\n      <td>0.150183</td>\n      <td>0.333333</td>\n      <td>0.134831</td>\n      <td>0.231884</td>\n      <td>5</td>\n    </tr>\n    <tr>\n      <th>6494</th>\n      <td>0.223140</td>\n      <td>0.106667</td>\n      <td>0.114458</td>\n      <td>0.009202</td>\n      <td>0.053156</td>\n      <td>0.100694</td>\n      <td>0.241935</td>\n      <td>0.104685</td>\n      <td>0.209302</td>\n      <td>0.134831</td>\n      <td>0.202899</td>\n      <td>6</td>\n    </tr>\n    <tr>\n      <th>6495</th>\n      <td>0.140496</td>\n      <td>0.140000</td>\n      <td>0.180723</td>\n      <td>0.007669</td>\n      <td>0.021595</td>\n      <td>0.065972</td>\n      <td>0.239631</td>\n      <td>0.030461</td>\n      <td>0.480620</td>\n      <td>0.089888</td>\n      <td>0.695652</td>\n      <td>7</td>\n    </tr>\n    <tr>\n      <th>6496</th>\n      <td>0.181818</td>\n      <td>0.086667</td>\n      <td>0.228916</td>\n      <td>0.003067</td>\n      <td>0.018272</td>\n      <td>0.072917</td>\n      <td>0.211982</td>\n      <td>0.044342</td>\n      <td>0.418605</td>\n      <td>0.056180</td>\n      <td>0.550725</td>\n      <td>6</td>\n    </tr>\n  </tbody>\n</table>\n<p>6497 rows × 12 columns</p>\n</div>"
     },
     "execution_count": 8,
     "metadata": {},
     "output_type": "execute_result"
    }
   ],
   "source": [
    "df"
   ],
   "metadata": {
    "collapsed": false,
    "ExecuteTime": {
     "end_time": "2024-07-05T18:44:09.776591Z",
     "start_time": "2024-07-05T18:44:09.764603Z"
    }
   },
   "id": "d5f062de34977642",
   "execution_count": 8
  },
  {
   "cell_type": "code",
   "outputs": [],
   "source": [
    "model_df = pd.concat([df, ohe_df], axis=1)"
   ],
   "metadata": {
    "collapsed": false,
    "ExecuteTime": {
     "end_time": "2024-07-05T18:44:17.365443Z",
     "start_time": "2024-07-05T18:44:17.362018Z"
    }
   },
   "id": "beb0b4569adeb33e",
   "execution_count": 9
  },
  {
   "cell_type": "code",
   "outputs": [
    {
     "data": {
      "text/plain": "      FIXED_ACIDITY  VOLATILE_ACIDITY  CITRIC_ACID  RESIDUAL_SUGAR  CHLORIDES  \\\n0          0.297521          0.413333     0.000000        0.019939   0.111296   \n1          0.330579          0.533333     0.000000        0.030675   0.147841   \n2          0.330579          0.453333     0.024096        0.026074   0.137874   \n3          0.611570          0.133333     0.337349        0.019939   0.109635   \n4          0.297521          0.413333     0.000000        0.019939   0.111296   \n...             ...               ...          ...             ...        ...   \n6492       0.198347          0.086667     0.174699        0.015337   0.049834   \n6493       0.231405          0.160000     0.216867        0.113497   0.063123   \n6494       0.223140          0.106667     0.114458        0.009202   0.053156   \n6495       0.140496          0.140000     0.180723        0.007669   0.021595   \n6496       0.181818          0.086667     0.228916        0.003067   0.018272   \n\n      FREE_SULFUR_DIOXIDE  TOTAL_SULFUR_DIOXIDE   DENSITY        PH  \\\n0                0.034722              0.064516  0.206092  0.612403   \n1                0.083333              0.140553  0.186813  0.372093   \n2                0.048611              0.110599  0.190669  0.418605   \n3                0.055556              0.124424  0.209948  0.341085   \n4                0.034722              0.064516  0.206092  0.612403   \n...                   ...                   ...       ...       ...   \n6492             0.079861              0.198157  0.077694  0.426357   \n6493             0.194444              0.373272  0.150183  0.333333   \n6494             0.100694              0.241935  0.104685  0.209302   \n6495             0.065972              0.239631  0.030461  0.480620   \n6496             0.072917              0.211982  0.044342  0.418605   \n\n      SULPHATES   ALCOHOL  QUALITY  TYPE_r  TYPE_w  \n0      0.191011  0.202899        5     1.0     0.0  \n1      0.258427  0.260870        5     1.0     0.0  \n2      0.241573  0.260870        5     1.0     0.0  \n3      0.202247  0.260870        6     1.0     0.0  \n4      0.191011  0.202899        5     1.0     0.0  \n...         ...       ...      ...     ...     ...  \n6492   0.157303  0.463768        6     0.0     1.0  \n6493   0.134831  0.231884        5     0.0     1.0  \n6494   0.134831  0.202899        6     0.0     1.0  \n6495   0.089888  0.695652        7     0.0     1.0  \n6496   0.056180  0.550725        6     0.0     1.0  \n\n[6497 rows x 14 columns]",
      "text/html": "<div>\n<style scoped>\n    .dataframe tbody tr th:only-of-type {\n        vertical-align: middle;\n    }\n\n    .dataframe tbody tr th {\n        vertical-align: top;\n    }\n\n    .dataframe thead th {\n        text-align: right;\n    }\n</style>\n<table border=\"1\" class=\"dataframe\">\n  <thead>\n    <tr style=\"text-align: right;\">\n      <th></th>\n      <th>FIXED_ACIDITY</th>\n      <th>VOLATILE_ACIDITY</th>\n      <th>CITRIC_ACID</th>\n      <th>RESIDUAL_SUGAR</th>\n      <th>CHLORIDES</th>\n      <th>FREE_SULFUR_DIOXIDE</th>\n      <th>TOTAL_SULFUR_DIOXIDE</th>\n      <th>DENSITY</th>\n      <th>PH</th>\n      <th>SULPHATES</th>\n      <th>ALCOHOL</th>\n      <th>QUALITY</th>\n      <th>TYPE_r</th>\n      <th>TYPE_w</th>\n    </tr>\n  </thead>\n  <tbody>\n    <tr>\n      <th>0</th>\n      <td>0.297521</td>\n      <td>0.413333</td>\n      <td>0.000000</td>\n      <td>0.019939</td>\n      <td>0.111296</td>\n      <td>0.034722</td>\n      <td>0.064516</td>\n      <td>0.206092</td>\n      <td>0.612403</td>\n      <td>0.191011</td>\n      <td>0.202899</td>\n      <td>5</td>\n      <td>1.0</td>\n      <td>0.0</td>\n    </tr>\n    <tr>\n      <th>1</th>\n      <td>0.330579</td>\n      <td>0.533333</td>\n      <td>0.000000</td>\n      <td>0.030675</td>\n      <td>0.147841</td>\n      <td>0.083333</td>\n      <td>0.140553</td>\n      <td>0.186813</td>\n      <td>0.372093</td>\n      <td>0.258427</td>\n      <td>0.260870</td>\n      <td>5</td>\n      <td>1.0</td>\n      <td>0.0</td>\n    </tr>\n    <tr>\n      <th>2</th>\n      <td>0.330579</td>\n      <td>0.453333</td>\n      <td>0.024096</td>\n      <td>0.026074</td>\n      <td>0.137874</td>\n      <td>0.048611</td>\n      <td>0.110599</td>\n      <td>0.190669</td>\n      <td>0.418605</td>\n      <td>0.241573</td>\n      <td>0.260870</td>\n      <td>5</td>\n      <td>1.0</td>\n      <td>0.0</td>\n    </tr>\n    <tr>\n      <th>3</th>\n      <td>0.611570</td>\n      <td>0.133333</td>\n      <td>0.337349</td>\n      <td>0.019939</td>\n      <td>0.109635</td>\n      <td>0.055556</td>\n      <td>0.124424</td>\n      <td>0.209948</td>\n      <td>0.341085</td>\n      <td>0.202247</td>\n      <td>0.260870</td>\n      <td>6</td>\n      <td>1.0</td>\n      <td>0.0</td>\n    </tr>\n    <tr>\n      <th>4</th>\n      <td>0.297521</td>\n      <td>0.413333</td>\n      <td>0.000000</td>\n      <td>0.019939</td>\n      <td>0.111296</td>\n      <td>0.034722</td>\n      <td>0.064516</td>\n      <td>0.206092</td>\n      <td>0.612403</td>\n      <td>0.191011</td>\n      <td>0.202899</td>\n      <td>5</td>\n      <td>1.0</td>\n      <td>0.0</td>\n    </tr>\n    <tr>\n      <th>...</th>\n      <td>...</td>\n      <td>...</td>\n      <td>...</td>\n      <td>...</td>\n      <td>...</td>\n      <td>...</td>\n      <td>...</td>\n      <td>...</td>\n      <td>...</td>\n      <td>...</td>\n      <td>...</td>\n      <td>...</td>\n      <td>...</td>\n      <td>...</td>\n    </tr>\n    <tr>\n      <th>6492</th>\n      <td>0.198347</td>\n      <td>0.086667</td>\n      <td>0.174699</td>\n      <td>0.015337</td>\n      <td>0.049834</td>\n      <td>0.079861</td>\n      <td>0.198157</td>\n      <td>0.077694</td>\n      <td>0.426357</td>\n      <td>0.157303</td>\n      <td>0.463768</td>\n      <td>6</td>\n      <td>0.0</td>\n      <td>1.0</td>\n    </tr>\n    <tr>\n      <th>6493</th>\n      <td>0.231405</td>\n      <td>0.160000</td>\n      <td>0.216867</td>\n      <td>0.113497</td>\n      <td>0.063123</td>\n      <td>0.194444</td>\n      <td>0.373272</td>\n      <td>0.150183</td>\n      <td>0.333333</td>\n      <td>0.134831</td>\n      <td>0.231884</td>\n      <td>5</td>\n      <td>0.0</td>\n      <td>1.0</td>\n    </tr>\n    <tr>\n      <th>6494</th>\n      <td>0.223140</td>\n      <td>0.106667</td>\n      <td>0.114458</td>\n      <td>0.009202</td>\n      <td>0.053156</td>\n      <td>0.100694</td>\n      <td>0.241935</td>\n      <td>0.104685</td>\n      <td>0.209302</td>\n      <td>0.134831</td>\n      <td>0.202899</td>\n      <td>6</td>\n      <td>0.0</td>\n      <td>1.0</td>\n    </tr>\n    <tr>\n      <th>6495</th>\n      <td>0.140496</td>\n      <td>0.140000</td>\n      <td>0.180723</td>\n      <td>0.007669</td>\n      <td>0.021595</td>\n      <td>0.065972</td>\n      <td>0.239631</td>\n      <td>0.030461</td>\n      <td>0.480620</td>\n      <td>0.089888</td>\n      <td>0.695652</td>\n      <td>7</td>\n      <td>0.0</td>\n      <td>1.0</td>\n    </tr>\n    <tr>\n      <th>6496</th>\n      <td>0.181818</td>\n      <td>0.086667</td>\n      <td>0.228916</td>\n      <td>0.003067</td>\n      <td>0.018272</td>\n      <td>0.072917</td>\n      <td>0.211982</td>\n      <td>0.044342</td>\n      <td>0.418605</td>\n      <td>0.056180</td>\n      <td>0.550725</td>\n      <td>6</td>\n      <td>0.0</td>\n      <td>1.0</td>\n    </tr>\n  </tbody>\n</table>\n<p>6497 rows × 14 columns</p>\n</div>"
     },
     "execution_count": 10,
     "metadata": {},
     "output_type": "execute_result"
    }
   ],
   "source": [
    "model_df"
   ],
   "metadata": {
    "collapsed": false,
    "ExecuteTime": {
     "end_time": "2024-07-05T18:44:20.995084Z",
     "start_time": "2024-07-05T18:44:20.978227Z"
    }
   },
   "id": "663b4db0fd73260e",
   "execution_count": 10
  },
  {
   "cell_type": "code",
   "outputs": [
    {
     "data": {
      "text/plain": "      TYPE_r  TYPE_w\n0        1.0     0.0\n1        1.0     0.0\n2        1.0     0.0\n3        1.0     0.0\n4        1.0     0.0\n...      ...     ...\n6492     0.0     1.0\n6493     0.0     1.0\n6494     0.0     1.0\n6495     0.0     1.0\n6496     0.0     1.0\n\n[6497 rows x 2 columns]",
      "text/html": "<div>\n<style scoped>\n    .dataframe tbody tr th:only-of-type {\n        vertical-align: middle;\n    }\n\n    .dataframe tbody tr th {\n        vertical-align: top;\n    }\n\n    .dataframe thead th {\n        text-align: right;\n    }\n</style>\n<table border=\"1\" class=\"dataframe\">\n  <thead>\n    <tr style=\"text-align: right;\">\n      <th></th>\n      <th>TYPE_r</th>\n      <th>TYPE_w</th>\n    </tr>\n  </thead>\n  <tbody>\n    <tr>\n      <th>0</th>\n      <td>1.0</td>\n      <td>0.0</td>\n    </tr>\n    <tr>\n      <th>1</th>\n      <td>1.0</td>\n      <td>0.0</td>\n    </tr>\n    <tr>\n      <th>2</th>\n      <td>1.0</td>\n      <td>0.0</td>\n    </tr>\n    <tr>\n      <th>3</th>\n      <td>1.0</td>\n      <td>0.0</td>\n    </tr>\n    <tr>\n      <th>4</th>\n      <td>1.0</td>\n      <td>0.0</td>\n    </tr>\n    <tr>\n      <th>...</th>\n      <td>...</td>\n      <td>...</td>\n    </tr>\n    <tr>\n      <th>6492</th>\n      <td>0.0</td>\n      <td>1.0</td>\n    </tr>\n    <tr>\n      <th>6493</th>\n      <td>0.0</td>\n      <td>1.0</td>\n    </tr>\n    <tr>\n      <th>6494</th>\n      <td>0.0</td>\n      <td>1.0</td>\n    </tr>\n    <tr>\n      <th>6495</th>\n      <td>0.0</td>\n      <td>1.0</td>\n    </tr>\n    <tr>\n      <th>6496</th>\n      <td>0.0</td>\n      <td>1.0</td>\n    </tr>\n  </tbody>\n</table>\n<p>6497 rows × 2 columns</p>\n</div>"
     },
     "execution_count": 11,
     "metadata": {},
     "output_type": "execute_result"
    }
   ],
   "source": [
    "ohe_df"
   ],
   "metadata": {
    "collapsed": false,
    "ExecuteTime": {
     "end_time": "2024-07-05T18:44:26.688171Z",
     "start_time": "2024-07-05T18:44:26.681383Z"
    }
   },
   "id": "5c1c77c1632b13d5",
   "execution_count": 11
  },
  {
   "cell_type": "code",
   "outputs": [],
   "source": [
    "model_df = model_df.sample(frac=1)"
   ],
   "metadata": {
    "collapsed": false,
    "ExecuteTime": {
     "end_time": "2024-07-05T18:44:27.464561Z",
     "start_time": "2024-07-05T18:44:27.460337Z"
    }
   },
   "id": "3a544341b4d24036",
   "execution_count": 12
  },
  {
   "cell_type": "code",
   "outputs": [],
   "source": [
    "target_vars = [x for x in list(model_df.columns) if x != \"QUALITY\"]"
   ],
   "metadata": {
    "collapsed": false,
    "ExecuteTime": {
     "end_time": "2024-07-05T18:45:00.521830Z",
     "start_time": "2024-07-05T18:45:00.519159Z"
    }
   },
   "id": "cefa07d2d9133cff",
   "execution_count": 19
  },
  {
   "cell_type": "code",
   "outputs": [],
   "source": [
    "X_train, X_test, y_train, y_test = train_test_split(model_df[target_vars], \n",
    "                                                    model_df[target], \n",
    "                                                    test_size=0.2, \n",
    "                                                    random_state=42)"
   ],
   "metadata": {
    "collapsed": false,
    "ExecuteTime": {
     "end_time": "2024-07-05T18:45:01.257302Z",
     "start_time": "2024-07-05T18:45:01.249429Z"
    }
   },
   "id": "bd01c8d33155f08f",
   "execution_count": 20
  },
  {
   "cell_type": "code",
   "outputs": [
    {
     "data": {
      "text/plain": "RandomForestClassifier(n_estimators=1200)",
      "text/html": "<style>#sk-container-id-2 {color: black;}#sk-container-id-2 pre{padding: 0;}#sk-container-id-2 div.sk-toggleable {background-color: white;}#sk-container-id-2 label.sk-toggleable__label {cursor: pointer;display: block;width: 100%;margin-bottom: 0;padding: 0.3em;box-sizing: border-box;text-align: center;}#sk-container-id-2 label.sk-toggleable__label-arrow:before {content: \"▸\";float: left;margin-right: 0.25em;color: #696969;}#sk-container-id-2 label.sk-toggleable__label-arrow:hover:before {color: black;}#sk-container-id-2 div.sk-estimator:hover label.sk-toggleable__label-arrow:before {color: black;}#sk-container-id-2 div.sk-toggleable__content {max-height: 0;max-width: 0;overflow: hidden;text-align: left;background-color: #f0f8ff;}#sk-container-id-2 div.sk-toggleable__content pre {margin: 0.2em;color: black;border-radius: 0.25em;background-color: #f0f8ff;}#sk-container-id-2 input.sk-toggleable__control:checked~div.sk-toggleable__content {max-height: 200px;max-width: 100%;overflow: auto;}#sk-container-id-2 input.sk-toggleable__control:checked~label.sk-toggleable__label-arrow:before {content: \"▾\";}#sk-container-id-2 div.sk-estimator input.sk-toggleable__control:checked~label.sk-toggleable__label {background-color: #d4ebff;}#sk-container-id-2 div.sk-label input.sk-toggleable__control:checked~label.sk-toggleable__label {background-color: #d4ebff;}#sk-container-id-2 input.sk-hidden--visually {border: 0;clip: rect(1px 1px 1px 1px);clip: rect(1px, 1px, 1px, 1px);height: 1px;margin: -1px;overflow: hidden;padding: 0;position: absolute;width: 1px;}#sk-container-id-2 div.sk-estimator {font-family: monospace;background-color: #f0f8ff;border: 1px dotted black;border-radius: 0.25em;box-sizing: border-box;margin-bottom: 0.5em;}#sk-container-id-2 div.sk-estimator:hover {background-color: #d4ebff;}#sk-container-id-2 div.sk-parallel-item::after {content: \"\";width: 100%;border-bottom: 1px solid gray;flex-grow: 1;}#sk-container-id-2 div.sk-label:hover label.sk-toggleable__label {background-color: #d4ebff;}#sk-container-id-2 div.sk-serial::before {content: \"\";position: absolute;border-left: 1px solid gray;box-sizing: border-box;top: 0;bottom: 0;left: 50%;z-index: 0;}#sk-container-id-2 div.sk-serial {display: flex;flex-direction: column;align-items: center;background-color: white;padding-right: 0.2em;padding-left: 0.2em;position: relative;}#sk-container-id-2 div.sk-item {position: relative;z-index: 1;}#sk-container-id-2 div.sk-parallel {display: flex;align-items: stretch;justify-content: center;background-color: white;position: relative;}#sk-container-id-2 div.sk-item::before, #sk-container-id-2 div.sk-parallel-item::before {content: \"\";position: absolute;border-left: 1px solid gray;box-sizing: border-box;top: 0;bottom: 0;left: 50%;z-index: -1;}#sk-container-id-2 div.sk-parallel-item {display: flex;flex-direction: column;z-index: 1;position: relative;background-color: white;}#sk-container-id-2 div.sk-parallel-item:first-child::after {align-self: flex-end;width: 50%;}#sk-container-id-2 div.sk-parallel-item:last-child::after {align-self: flex-start;width: 50%;}#sk-container-id-2 div.sk-parallel-item:only-child::after {width: 0;}#sk-container-id-2 div.sk-dashed-wrapped {border: 1px dashed gray;margin: 0 0.4em 0.5em 0.4em;box-sizing: border-box;padding-bottom: 0.4em;background-color: white;}#sk-container-id-2 div.sk-label label {font-family: monospace;font-weight: bold;display: inline-block;line-height: 1.2em;}#sk-container-id-2 div.sk-label-container {text-align: center;}#sk-container-id-2 div.sk-container {/* jupyter's `normalize.less` sets `[hidden] { display: none; }` but bootstrap.min.css set `[hidden] { display: none !important; }` so we also need the `!important` here to be able to override the default hidden behavior on the sphinx rendered scikit-learn.org. See: https://github.com/scikit-learn/scikit-learn/issues/21755 */display: inline-block !important;position: relative;}#sk-container-id-2 div.sk-text-repr-fallback {display: none;}</style><div id=\"sk-container-id-2\" class=\"sk-top-container\"><div class=\"sk-text-repr-fallback\"><pre>RandomForestClassifier(n_estimators=1200)</pre><b>In a Jupyter environment, please rerun this cell to show the HTML representation or trust the notebook. <br />On GitHub, the HTML representation is unable to render, please try loading this page with nbviewer.org.</b></div><div class=\"sk-container\" hidden><div class=\"sk-item\"><div class=\"sk-estimator sk-toggleable\"><input class=\"sk-toggleable__control sk-hidden--visually\" id=\"sk-estimator-id-2\" type=\"checkbox\" checked><label for=\"sk-estimator-id-2\" class=\"sk-toggleable__label sk-toggleable__label-arrow\">RandomForestClassifier</label><div class=\"sk-toggleable__content\"><pre>RandomForestClassifier(n_estimators=1200)</pre></div></div></div></div></div>"
     },
     "execution_count": 21,
     "metadata": {},
     "output_type": "execute_result"
    }
   ],
   "source": [
    "forest = RandomForestClassifier(n_estimators=1200)\n",
    "forest.fit(X_train, y_train)"
   ],
   "metadata": {
    "collapsed": false,
    "ExecuteTime": {
     "end_time": "2024-07-05T18:45:12.136282Z",
     "start_time": "2024-07-05T18:45:01.886106Z"
    }
   },
   "id": "8e7650568f2971fe",
   "execution_count": 21
  },
  {
   "cell_type": "code",
   "outputs": [
    {
     "data": {
      "text/plain": "0.7061538461538461"
     },
     "execution_count": 22,
     "metadata": {},
     "output_type": "execute_result"
    }
   ],
   "source": [
    "forest.score(X_test, y_test)"
   ],
   "metadata": {
    "collapsed": false,
    "ExecuteTime": {
     "end_time": "2024-07-05T18:45:13.427953Z",
     "start_time": "2024-07-05T18:45:13.001444Z"
    }
   },
   "id": "4586933acb902899",
   "execution_count": 22
  },
  {
   "cell_type": "code",
   "outputs": [],
   "source": [
    "start_time = time.time()\n",
    "importances = forest.feature_importances_\n",
    "std = np.std([tree.feature_importances_ for tree in forest.estimators_], axis=0)\n",
    "elapsed_time = time.time() - start_time"
   ],
   "metadata": {
    "collapsed": false,
    "ExecuteTime": {
     "end_time": "2024-07-05T18:45:14.591483Z",
     "start_time": "2024-07-05T18:45:14.450413Z"
    }
   },
   "id": "6f11b6d6e8c6d2ca",
   "execution_count": 23
  },
  {
   "cell_type": "code",
   "outputs": [
    {
     "data": {
      "text/plain": "<Figure size 640x480 with 1 Axes>",
      "image/png": "[encoded data removed]"
     },
     "metadata": {},
     "output_type": "display_data"
    }
   ],
   "source": [
    "forest_importances = pd.Series(importances, index=target_vars)\n",
    "\n",
    "fig, ax = plt.subplots()\n",
    "forest_importances.plot.bar(yerr=std, ax=ax)\n",
    "ax.set_title(\"Feature importances using MDI\")\n",
    "ax.set_ylabel(\"Mean decrease in impurity\")\n",
    "fig.tight_layout()"
   ],
   "metadata": {
    "collapsed": false,
    "ExecuteTime": {
     "end_time": "2024-07-05T18:45:28.038049Z",
     "start_time": "2024-07-05T18:45:27.712475Z"
    }
   },
   "id": "9859bbfaeffb8a78",
   "execution_count": 24
  },
  {
   "cell_type": "code",
   "outputs": [
    {
     "data": {
      "text/plain": "QUALITY\n6    2836\n5    2138\n7    1079\n4     216\n8     193\n3      30\n9       5\nName: count, dtype: int64"
     },
     "execution_count": 25,
     "metadata": {},
     "output_type": "execute_result"
    }
   ],
   "source": [
    "df[\"QUALITY\"].value_counts()"
   ],
   "metadata": {
    "collapsed": false,
    "ExecuteTime": {
     "end_time": "2024-07-05T19:23:10.195826Z",
     "start_time": "2024-07-05T19:23:10.190526Z"
    }
   },
   "id": "a9c3fa13ace32ed6",
   "execution_count": 25
  },
  {
   "cell_type": "code",
   "outputs": [],
   "source": [
    "CAT_MAPPER = {3: 0, 4:1, 5:2, 6:3, 7:4, 8:5, 9:6}"
   ],
   "metadata": {
    "collapsed": false
   },
   "id": "aeba506efc25dfb0"
  }
 ],
 "metadata": {
  "kernelspec": {
   "display_name": "Python 3",
   "language": "python",
   "name": "python3"
  },
  "language_info": {
   "codemirror_mode": {
    "name": "ipython",
    "version": 2
   },
   "file_extension": ".py",
   "mimetype": "text/x-python",
   "name": "python",
   "nbconvert_exporter": "python",
   "pygments_lexer": "ipython2",
   "version": "2.7.6"
  }
 },
 "nbformat": 4,
 "nbformat_minor": 5
}
