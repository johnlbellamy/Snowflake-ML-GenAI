{
 "cells": [
  {
   "cell_type": "code",
   "execution_count": 1,
   "id": "initial_id",
   "metadata": {
    "collapsed": true,
    "ExecuteTime": {
     "end_time": "2024-07-03T23:04:10.605282Z",
     "start_time": "2024-07-03T23:04:10.145390Z"
    }
   },
   "outputs": [
    {
     "data": {
      "text/plain": "True"
     },
     "execution_count": 1,
     "metadata": {},
     "output_type": "execute_result"
    }
   ],
   "source": [
    "from snowflake.connector import connect\n",
    "import os\n",
    "from dotenv import load_dotenv\n",
    "import pandas as pd\n",
    "\n",
    "load_dotenv(\"../.env\")\n"
   ]
  },
  {
   "cell_type": "code",
   "outputs": [],
   "source": [
    "conn = connect(\n",
    "        user=os.getenv(\"USER_NAME\"),\n",
    "        password=os.getenv(\"PASSWORD\"),\n",
    "        account=os.getenv(\"ACCOUNT\"),\n",
    "        warehouse=\"COMPUTE_WH\",\n",
    "        schema=\"PUBLIC\",\n",
    "        database='WINE',\n",
    "        role=\"ACCOUNTADMIN\")\n"
   ],
   "metadata": {
    "collapsed": false,
    "ExecuteTime": {
     "end_time": "2024-07-03T23:04:12.626282Z",
     "start_time": "2024-07-03T23:04:11.675935Z"
    }
   },
   "id": "eb1464dc759bf38a",
   "execution_count": 2
  },
  {
   "cell_type": "code",
   "outputs": [],
   "source": [
    "q = conn.cursor().execute(\"SELECT * FROM WINE_QUALITY LIMIT 10;\")"
   ],
   "metadata": {
    "collapsed": false,
    "ExecuteTime": {
     "end_time": "2024-07-03T23:04:14.563351Z",
     "start_time": "2024-07-03T23:04:14.413663Z"
    }
   },
   "id": "75d6ab01f726bf02",
   "execution_count": 3
  },
  {
   "cell_type": "code",
   "outputs": [
    {
     "data": {
      "text/plain": "[(Decimal('7.40'),\n  Decimal('0.700'),\n  Decimal('0.00'),\n  Decimal('1.90'),\n  Decimal('0.076'),\n  Decimal('11.0'),\n  Decimal('34.0'),\n  Decimal('0.997800'),\n  Decimal('3.51'),\n  Decimal('0.56'),\n  Decimal('9.40000000000000'),\n  5,\n  'r'),\n (Decimal('7.80'),\n  Decimal('0.880'),\n  Decimal('0.00'),\n  Decimal('2.60'),\n  Decimal('0.098'),\n  Decimal('25.0'),\n  Decimal('67.0'),\n  Decimal('0.996800'),\n  Decimal('3.20'),\n  Decimal('0.68'),\n  Decimal('9.80000000000000'),\n  5,\n  'r'),\n (Decimal('7.80'),\n  Decimal('0.760'),\n  Decimal('0.04'),\n  Decimal('2.30'),\n  Decimal('0.092'),\n  Decimal('15.0'),\n  Decimal('54.0'),\n  Decimal('0.997000'),\n  Decimal('3.26'),\n  Decimal('0.65'),\n  Decimal('9.80000000000000'),\n  5,\n  'r'),\n (Decimal('11.20'),\n  Decimal('0.280'),\n  Decimal('0.56'),\n  Decimal('1.90'),\n  Decimal('0.075'),\n  Decimal('17.0'),\n  Decimal('60.0'),\n  Decimal('0.998000'),\n  Decimal('3.16'),\n  Decimal('0.58'),\n  Decimal('9.80000000000000'),\n  6,\n  'r'),\n (Decimal('7.40'),\n  Decimal('0.700'),\n  Decimal('0.00'),\n  Decimal('1.90'),\n  Decimal('0.076'),\n  Decimal('11.0'),\n  Decimal('34.0'),\n  Decimal('0.997800'),\n  Decimal('3.51'),\n  Decimal('0.56'),\n  Decimal('9.40000000000000'),\n  5,\n  'r'),\n (Decimal('7.40'),\n  Decimal('0.660'),\n  Decimal('0.00'),\n  Decimal('1.80'),\n  Decimal('0.075'),\n  Decimal('13.0'),\n  Decimal('40.0'),\n  Decimal('0.997800'),\n  Decimal('3.51'),\n  Decimal('0.56'),\n  Decimal('9.40000000000000'),\n  5,\n  'r'),\n (Decimal('7.90'),\n  Decimal('0.600'),\n  Decimal('0.06'),\n  Decimal('1.60'),\n  Decimal('0.069'),\n  Decimal('15.0'),\n  Decimal('59.0'),\n  Decimal('0.996400'),\n  Decimal('3.30'),\n  Decimal('0.46'),\n  Decimal('9.40000000000000'),\n  5,\n  'r'),\n (Decimal('7.30'),\n  Decimal('0.650'),\n  Decimal('0.00'),\n  Decimal('1.20'),\n  Decimal('0.065'),\n  Decimal('15.0'),\n  Decimal('21.0'),\n  Decimal('0.994600'),\n  Decimal('3.39'),\n  Decimal('0.47'),\n  Decimal('10.00000000000000'),\n  7,\n  'r'),\n (Decimal('7.80'),\n  Decimal('0.580'),\n  Decimal('0.02'),\n  Decimal('2.00'),\n  Decimal('0.073'),\n  Decimal('9.0'),\n  Decimal('18.0'),\n  Decimal('0.996800'),\n  Decimal('3.36'),\n  Decimal('0.57'),\n  Decimal('9.50000000000000'),\n  7,\n  'r'),\n (Decimal('7.50'),\n  Decimal('0.500'),\n  Decimal('0.36'),\n  Decimal('6.10'),\n  Decimal('0.071'),\n  Decimal('17.0'),\n  Decimal('102.0'),\n  Decimal('0.997800'),\n  Decimal('3.35'),\n  Decimal('0.80'),\n  Decimal('10.50000000000000'),\n  5,\n  'r')]"
     },
     "execution_count": 5,
     "metadata": {},
     "output_type": "execute_result"
    }
   ],
   "source": [
    "q.fetchall()"
   ],
   "metadata": {
    "collapsed": false,
    "ExecuteTime": {
     "end_time": "2024-07-03T23:05:52.247987Z",
     "start_time": "2024-07-03T23:05:52.237206Z"
    }
   },
   "id": "29d49028f99190b9",
   "execution_count": 5
  },
  {
   "cell_type": "code",
   "outputs": [
    {
     "data": {
      "text/plain": "'johnbellamy'"
     },
     "execution_count": 3,
     "metadata": {},
     "output_type": "execute_result"
    }
   ],
   "source": [
    "os.getenv(\"USER\")"
   ],
   "metadata": {
    "collapsed": false,
    "ExecuteTime": {
     "end_time": "2024-07-03T23:03:24.869580Z",
     "start_time": "2024-07-03T23:03:24.864630Z"
    }
   },
   "id": "31f84dc941d1c0d3",
   "execution_count": 3
  },
  {
   "cell_type": "code",
   "outputs": [],
   "source": [
    "from snowflake.snowpark import Session"
   ],
   "metadata": {
    "collapsed": false,
    "ExecuteTime": {
     "end_time": "2024-07-03T23:14:00.966170Z",
     "start_time": "2024-07-03T23:14:00.832073Z"
    }
   },
   "id": "420f88d4e298b8e5",
   "execution_count": 6
  },
  {
   "cell_type": "code",
   "outputs": [],
   "source": [
    "conn_config = {\n",
    "        \"user\": os.getenv(\"USER_NAME\"),\n",
    "        \"password\": os.getenv(\"PASSWORD\"),\n",
    "        \"account\": os.getenv(\"ACCOUNT\"),\n",
    "        \"warehouse\": \"COMPUTE_WH\",\n",
    "        \"schema\": \"PUBLIC\",\n",
    "        \"database\": 'WINE',\n",
    "        \"role\": \"ACCOUNTADMIN\"\n",
    "        }\n",
    "\n",
    "#Invoking Snowpark Session for Establishing Connection\n",
    "conn = Session.builder.configs(conn_config).create()"
   ],
   "metadata": {
    "collapsed": false,
    "ExecuteTime": {
     "end_time": "2024-07-03T23:16:17.418741Z",
     "start_time": "2024-07-03T23:16:16.626929Z"
    }
   },
   "id": "702b556d41070626",
   "execution_count": 7
  },
  {
   "cell_type": "code",
   "outputs": [],
   "source": [
    "df_tbl_read = conn.table(\"WINE_QUALITY\")"
   ],
   "metadata": {
    "collapsed": false,
    "ExecuteTime": {
     "end_time": "2024-07-03T23:17:04.686349Z",
     "start_time": "2024-07-03T23:17:04.683469Z"
    }
   },
   "id": "7509a29998b4f059",
   "execution_count": 8
  },
  {
   "cell_type": "code",
   "outputs": [
    {
     "name": "stdout",
     "output_type": "stream",
     "text": [
      "--------------------------------------------------------------------------------------------------------------------------------------------------------------------------------------------------------------------\n",
      "|\"FIXED_ACIDITY\"  |\"VOLATILE_ACIDITY\"  |\"CITRIC_ACID\"  |\"RESIDUAL_SUGAR\"  |\"CHLORIDES\"  |\"FREE_SULFUR_DIOXIDE\"  |\"TOTAL_SULFUR_DIOXIDE\"  |\"DENSITY\"  |\"PH\"  |\"SULPHATES\"  |\"ALCOHOL\"          |\"QUALITY\"  |\"TYPE\"  |\n",
      "--------------------------------------------------------------------------------------------------------------------------------------------------------------------------------------------------------------------\n",
      "|7.40             |0.700               |0.00           |1.90              |0.076        |11.0                   |34.0                    |0.997800   |3.51  |0.56         |9.40000000000000   |5          |r       |\n",
      "|7.80             |0.880               |0.00           |2.60              |0.098        |25.0                   |67.0                    |0.996800   |3.20  |0.68         |9.80000000000000   |5          |r       |\n",
      "|7.80             |0.760               |0.04           |2.30              |0.092        |15.0                   |54.0                    |0.997000   |3.26  |0.65         |9.80000000000000   |5          |r       |\n",
      "|11.20            |0.280               |0.56           |1.90              |0.075        |17.0                   |60.0                    |0.998000   |3.16  |0.58         |9.80000000000000   |6          |r       |\n",
      "|7.40             |0.700               |0.00           |1.90              |0.076        |11.0                   |34.0                    |0.997800   |3.51  |0.56         |9.40000000000000   |5          |r       |\n",
      "|7.40             |0.660               |0.00           |1.80              |0.075        |13.0                   |40.0                    |0.997800   |3.51  |0.56         |9.40000000000000   |5          |r       |\n",
      "|7.90             |0.600               |0.06           |1.60              |0.069        |15.0                   |59.0                    |0.996400   |3.30  |0.46         |9.40000000000000   |5          |r       |\n",
      "|7.30             |0.650               |0.00           |1.20              |0.065        |15.0                   |21.0                    |0.994600   |3.39  |0.47         |10.00000000000000  |7          |r       |\n",
      "|7.80             |0.580               |0.02           |2.00              |0.073        |9.0                    |18.0                    |0.996800   |3.36  |0.57         |9.50000000000000   |7          |r       |\n",
      "|7.50             |0.500               |0.36           |6.10              |0.071        |17.0                   |102.0                   |0.997800   |3.35  |0.80         |10.50000000000000  |5          |r       |\n",
      "--------------------------------------------------------------------------------------------------------------------------------------------------------------------------------------------------------------------\n"
     ]
    }
   ],
   "source": [
    "df_tbl_read.show()"
   ],
   "metadata": {
    "collapsed": false,
    "ExecuteTime": {
     "end_time": "2024-07-03T23:17:13.704089Z",
     "start_time": "2024-07-03T23:17:12.368621Z"
    }
   },
   "id": "425789ea83b1d139",
   "execution_count": 9
  },
  {
   "cell_type": "code",
   "outputs": [],
   "source": [
    "from snowflake.ml.modeling.metrics.classification import accuracy_score"
   ],
   "metadata": {
    "collapsed": false,
    "ExecuteTime": {
     "end_time": "2024-07-05T20:39:41.494511Z",
     "start_time": "2024-07-05T20:39:40.834541Z"
    }
   },
   "id": "11fd1ab626a9c7fc",
   "execution_count": 1
  },
  {
   "cell_type": "code",
   "outputs": [
    {
     "name": "stdout",
     "output_type": "stream",
     "text": [
      "Help on function accuracy_score in module snowflake.ml.modeling.metrics.classification:\n",
      "\n",
      "accuracy_score(*, df: snowflake.snowpark.dataframe.DataFrame, y_true_col_names: Union[str, List[str]], y_pred_col_names: Union[str, List[str]], normalize: bool = True, sample_weight_col_name: Optional[str] = None) -> float\n",
      "    Accuracy classification score.\n",
      "    \n",
      "    In multilabel classification, this function computes subset accuracy:\n",
      "    the set of labels predicted for a sample must *exactly* match the\n",
      "    corresponding set of labels in the y true columns.\n",
      "    \n",
      "    Args:\n",
      "        df: snowpark.DataFrame\n",
      "            Input dataframe.\n",
      "        y_true_col_names: string or list of strings\n",
      "            Column name(s) representing actual values.\n",
      "        y_pred_col_names: string or list of strings\n",
      "            Column name(s) representing predicted values.\n",
      "        normalize: boolean, default=True\n",
      "            If ``False``, return the number of correctly classified samples.\n",
      "            Otherwise, return the fraction of correctly classified samples.\n",
      "        sample_weight_col_name: string, default=None\n",
      "            Column name representing sample weights.\n",
      "    \n",
      "    Returns:\n",
      "        If ``normalize == True``, return the fraction of correctly\n",
      "        classified samples (float), else returns the number of correctly\n",
      "        classified samples (int).\n",
      "    \n",
      "        The best performance is 1 with ``normalize == True`` and the number\n",
      "        of samples with ``normalize == False``.\n"
     ]
    }
   ],
   "source": [
    "help(accuracy_score)"
   ],
   "metadata": {
    "collapsed": false,
    "ExecuteTime": {
     "end_time": "2024-07-05T20:39:44.272754Z",
     "start_time": "2024-07-05T20:39:44.268774Z"
    }
   },
   "id": "aa96764d1360035",
   "execution_count": 2
  },
  {
   "cell_type": "code",
   "source": [
    "values = [[x] for x in [5,7,8,9,0,1]]\n",
    "columns = [\"1\", \"2\", \"3\", \"4\", \"5\", \"6\"]"
   ],
   "metadata": {
    "collapsed": false,
    "ExecuteTime": {
     "end_time": "2024-07-07T02:51:43.533122Z",
     "start_time": "2024-07-07T02:51:43.529958Z"
    }
   },
   "id": "e2079430c0461963",
   "outputs": [],
   "execution_count": 56
  },
  {
   "metadata": {
    "ExecuteTime": {
     "end_time": "2024-07-07T02:51:44.160705Z",
     "start_time": "2024-07-07T02:51:44.156595Z"
    }
   },
   "cell_type": "code",
   "source": [
    "df = pd.DataFrame(data=values).T\n",
    "df.columns = columns\n"
   ],
   "id": "95434c689ab770c",
   "outputs": [],
   "execution_count": 57
  },
  {
   "metadata": {
    "ExecuteTime": {
     "end_time": "2024-07-07T02:51:45.733686Z",
     "start_time": "2024-07-07T02:51:45.725617Z"
    }
   },
   "cell_type": "code",
   "source": "df",
   "id": "5cd02b15fcfa9130",
   "outputs": [
    {
     "data": {
      "text/plain": [
       "   1  2  3  4  5  6\n",
       "0  5  7  8  9  0  1"
      ],
      "text/html": [
       "<div>\n",
       "<style scoped>\n",
       "    .dataframe tbody tr th:only-of-type {\n",
       "        vertical-align: middle;\n",
       "    }\n",
       "\n",
       "    .dataframe tbody tr th {\n",
       "        vertical-align: top;\n",
       "    }\n",
       "\n",
       "    .dataframe thead th {\n",
       "        text-align: right;\n",
       "    }\n",
       "</style>\n",
       "<table border=\"1\" class=\"dataframe\">\n",
       "  <thead>\n",
       "    <tr style=\"text-align: right;\">\n",
       "      <th></th>\n",
       "      <th>1</th>\n",
       "      <th>2</th>\n",
       "      <th>3</th>\n",
       "      <th>4</th>\n",
       "      <th>5</th>\n",
       "      <th>6</th>\n",
       "    </tr>\n",
       "  </thead>\n",
       "  <tbody>\n",
       "    <tr>\n",
       "      <th>0</th>\n",
       "      <td>5</td>\n",
       "      <td>7</td>\n",
       "      <td>8</td>\n",
       "      <td>9</td>\n",
       "      <td>0</td>\n",
       "      <td>1</td>\n",
       "    </tr>\n",
       "  </tbody>\n",
       "</table>\n",
       "</div>"
      ]
     },
     "execution_count": 58,
     "metadata": {},
     "output_type": "execute_result"
    }
   ],
   "execution_count": 58
  },
  {
   "metadata": {},
   "cell_type": "code",
   "outputs": [],
   "execution_count": null,
   "source": "",
   "id": "8d728fedd11451ab"
  },
  {
   "metadata": {
    "ExecuteTime": {
     "end_time": "2024-07-07T02:44:51.478805Z",
     "start_time": "2024-07-07T02:44:51.461764Z"
    }
   },
   "cell_type": "code",
   "source": "df = pd.DataFrame.from_dict(d, index=range(len(d.items())))",
   "id": "64d4dbd91d8257da",
   "outputs": [
    {
     "ename": "TypeError",
     "evalue": "DataFrame.from_dict() got an unexpected keyword argument 'index'",
     "output_type": "error",
     "traceback": [
      "\u001B[0;31m---------------------------------------------------------------------------\u001B[0m",
      "\u001B[0;31mTypeError\u001B[0m                                 Traceback (most recent call last)",
      "Cell \u001B[0;32mIn[42], line 1\u001B[0m\n\u001B[0;32m----> 1\u001B[0m df \u001B[38;5;241m=\u001B[39m \u001B[43mpd\u001B[49m\u001B[38;5;241;43m.\u001B[39;49m\u001B[43mDataFrame\u001B[49m\u001B[38;5;241;43m.\u001B[39;49m\u001B[43mfrom_dict\u001B[49m\u001B[43m(\u001B[49m\u001B[43md\u001B[49m\u001B[43m,\u001B[49m\u001B[43m \u001B[49m\u001B[43mindex\u001B[49m\u001B[38;5;241;43m=\u001B[39;49m\u001B[38;5;28;43mrange\u001B[39;49m\u001B[43m(\u001B[49m\u001B[38;5;28;43mlen\u001B[39;49m\u001B[43m(\u001B[49m\u001B[43md\u001B[49m\u001B[38;5;241;43m.\u001B[39;49m\u001B[43mitems\u001B[49m\u001B[43m(\u001B[49m\u001B[43m)\u001B[49m\u001B[43m)\u001B[49m\u001B[43m)\u001B[49m\u001B[43m)\u001B[49m\n",
      "\u001B[0;31mTypeError\u001B[0m: DataFrame.from_dict() got an unexpected keyword argument 'index'"
     ]
    }
   ],
   "execution_count": 42
  },
  {
   "metadata": {
    "ExecuteTime": {
     "end_time": "2024-07-07T02:46:31.480628Z",
     "start_time": "2024-07-07T02:46:31.456537Z"
    }
   },
   "cell_type": "code",
   "source": "pd.DataFrame(d.items())",
   "id": "77c91bccef57a532",
   "outputs": [
    {
     "data": {
      "text/plain": [
       "   0  1\n",
       "0  1  2\n",
       "1  3  4\n",
       "2  5  6\n",
       "3  7  8"
      ],
      "text/html": [
       "<div>\n",
       "<style scoped>\n",
       "    .dataframe tbody tr th:only-of-type {\n",
       "        vertical-align: middle;\n",
       "    }\n",
       "\n",
       "    .dataframe tbody tr th {\n",
       "        vertical-align: top;\n",
       "    }\n",
       "\n",
       "    .dataframe thead th {\n",
       "        text-align: right;\n",
       "    }\n",
       "</style>\n",
       "<table border=\"1\" class=\"dataframe\">\n",
       "  <thead>\n",
       "    <tr style=\"text-align: right;\">\n",
       "      <th></th>\n",
       "      <th>0</th>\n",
       "      <th>1</th>\n",
       "    </tr>\n",
       "  </thead>\n",
       "  <tbody>\n",
       "    <tr>\n",
       "      <th>0</th>\n",
       "      <td>1</td>\n",
       "      <td>2</td>\n",
       "    </tr>\n",
       "    <tr>\n",
       "      <th>1</th>\n",
       "      <td>3</td>\n",
       "      <td>4</td>\n",
       "    </tr>\n",
       "    <tr>\n",
       "      <th>2</th>\n",
       "      <td>5</td>\n",
       "      <td>6</td>\n",
       "    </tr>\n",
       "    <tr>\n",
       "      <th>3</th>\n",
       "      <td>7</td>\n",
       "      <td>8</td>\n",
       "    </tr>\n",
       "  </tbody>\n",
       "</table>\n",
       "</div>"
      ]
     },
     "execution_count": 43,
     "metadata": {},
     "output_type": "execute_result"
    }
   ],
   "execution_count": 43
  },
  {
   "metadata": {
    "ExecuteTime": {
     "end_time": "2024-07-07T02:43:47.720750Z",
     "start_time": "2024-07-07T02:43:47.712133Z"
    }
   },
   "cell_type": "code",
   "source": "df",
   "id": "2b5c953d7ab28fea",
   "outputs": [
    {
     "data": {
      "text/plain": [
       "   0\n",
       "1  2\n",
       "3  4\n",
       "5  6\n",
       "7  8"
      ],
      "text/html": [
       "<div>\n",
       "<style scoped>\n",
       "    .dataframe tbody tr th:only-of-type {\n",
       "        vertical-align: middle;\n",
       "    }\n",
       "\n",
       "    .dataframe tbody tr th {\n",
       "        vertical-align: top;\n",
       "    }\n",
       "\n",
       "    .dataframe thead th {\n",
       "        text-align: right;\n",
       "    }\n",
       "</style>\n",
       "<table border=\"1\" class=\"dataframe\">\n",
       "  <thead>\n",
       "    <tr style=\"text-align: right;\">\n",
       "      <th></th>\n",
       "      <th>0</th>\n",
       "    </tr>\n",
       "  </thead>\n",
       "  <tbody>\n",
       "    <tr>\n",
       "      <th>1</th>\n",
       "      <td>2</td>\n",
       "    </tr>\n",
       "    <tr>\n",
       "      <th>3</th>\n",
       "      <td>4</td>\n",
       "    </tr>\n",
       "    <tr>\n",
       "      <th>5</th>\n",
       "      <td>6</td>\n",
       "    </tr>\n",
       "    <tr>\n",
       "      <th>7</th>\n",
       "      <td>8</td>\n",
       "    </tr>\n",
       "  </tbody>\n",
       "</table>\n",
       "</div>"
      ]
     },
     "execution_count": 40,
     "metadata": {},
     "output_type": "execute_result"
    }
   ],
   "execution_count": 40
  },
  {
   "metadata": {
    "ExecuteTime": {
     "end_time": "2024-07-07T02:38:40.607317Z",
     "start_time": "2024-07-07T02:38:40.603047Z"
    }
   },
   "cell_type": "code",
   "source": "list(d.values())",
   "id": "89d86b4b567377dc",
   "outputs": [
    {
     "data": {
      "text/plain": [
       "['2', '4', '6', '8']"
      ]
     },
     "execution_count": 24,
     "metadata": {},
     "output_type": "execute_result"
    }
   ],
   "execution_count": 24
  },
  {
   "metadata": {
    "ExecuteTime": {
     "end_time": "2024-07-07T02:42:26.521861Z",
     "start_time": "2024-07-07T02:42:26.515035Z"
    }
   },
   "cell_type": "code",
   "source": [
    "import numpy as np \n",
    "np.array(list(d.keys()))"
   ],
   "id": "6f66681dc69e3e4",
   "outputs": [
    {
     "data": {
      "text/plain": [
       "array(['1', '3', '5', '7'], dtype='<U1')"
      ]
     },
     "execution_count": 33,
     "metadata": {},
     "output_type": "execute_result"
    }
   ],
   "execution_count": 33
  },
  {
   "metadata": {
    "ExecuteTime": {
     "end_time": "2024-07-07T02:41:44.733662Z",
     "start_time": "2024-07-07T02:41:44.728483Z"
    }
   },
   "cell_type": "code",
   "source": "[[x] for x in list(d.values())]",
   "id": "8bf75286349498e1",
   "outputs": [
    {
     "data": {
      "text/plain": [
       "[['2'], ['4'], ['6'], ['8']]"
      ]
     },
     "execution_count": 30,
     "metadata": {},
     "output_type": "execute_result"
    }
   ],
   "execution_count": 30
  },
  {
   "metadata": {},
   "cell_type": "code",
   "outputs": [],
   "execution_count": null,
   "source": "",
   "id": "aa6930125556a0a1"
  }
 ],
 "metadata": {
  "kernelspec": {
   "display_name": "Python 3",
   "language": "python",
   "name": "python3"
  },
  "language_info": {
   "codemirror_mode": {
    "name": "ipython",
    "version": 2
   },
   "file_extension": ".py",
   "mimetype": "text/x-python",
   "name": "python",
   "nbconvert_exporter": "python",
   "pygments_lexer": "ipython2",
   "version": "2.7.6"
  }
 },
 "nbformat": 4,
 "nbformat_minor": 5
}
